{
 "cells": [
  {
   "cell_type": "code",
   "execution_count": 14,
   "metadata": {
    "collapsed": true
   },
   "outputs": [],
   "source": [
    "import pandas as pd\n",
    "import numpy as np\n",
    "from sklearn import cross_validation\n",
    "from sklearn import svm\n",
    "from sklearn.ensemble import RandomForestClassifier\n",
    "from sklearn.neighbors import KNeighborsClassifier\n",
    "from sklearn.cross_validation import StratifiedKFold\n",
    "from sklearn.feature_selection import RFECV\n",
    "from sklearn.tree import DecisionTreeClassifier\n",
    "\n",
    "from sklearn.ensemble import ExtraTreesClassifier"
   ]
  },
  {
   "cell_type": "code",
   "execution_count": 15,
   "metadata": {
    "collapsed": true
   },
   "outputs": [],
   "source": [
    "X = pd.read_csv(\"/Users/manojgulati/Documents/Algo_Testing_Data/30_March_2015/TD16384_Features_SET1/Stats_Features.csv\", \n",
    "                names=[\"Max\", \"Min\", \"Mean\", \"StdDev\", \"Median\",\n",
    "                       \"Mode\", \"Variance\", \"Percentile10\",\"Percentile25\",\n",
    "                       \"Percentile75\",\"Percentile90\", \"Range\",\"Entropy\",\"Skewness\",\"Kurtosis\"])"
   ]
  },
  {
   "cell_type": "code",
   "execution_count": 16,
   "metadata": {
    "collapsed": false
   },
   "outputs": [
    {
     "data": {
      "text/html": [
       "<div>\n",
       "<table border=\"1\" class=\"dataframe\">\n",
       "  <thead>\n",
       "    <tr style=\"text-align: right;\">\n",
       "      <th></th>\n",
       "      <th>Max</th>\n",
       "      <th>Min</th>\n",
       "      <th>Mean</th>\n",
       "      <th>StdDev</th>\n",
       "      <th>Median</th>\n",
       "      <th>Mode</th>\n",
       "      <th>Variance</th>\n",
       "      <th>Percentile10</th>\n",
       "      <th>Percentile25</th>\n",
       "      <th>Percentile75</th>\n",
       "      <th>Percentile90</th>\n",
       "      <th>Range</th>\n",
       "      <th>Entropy</th>\n",
       "      <th>Skewness</th>\n",
       "      <th>Kurtosis</th>\n",
       "    </tr>\n",
       "  </thead>\n",
       "  <tbody>\n",
       "    <tr>\n",
       "      <th>0</th>\n",
       "      <td>0.003144</td>\n",
       "      <td>0.001048</td>\n",
       "      <td>0.002112</td>\n",
       "      <td>0.000251</td>\n",
       "      <td>0.002096</td>\n",
       "      <td>0.002096</td>\n",
       "      <td>6.284900e-08</td>\n",
       "      <td>0.001834</td>\n",
       "      <td>0.001965</td>\n",
       "      <td>0.002227</td>\n",
       "      <td>0.002489</td>\n",
       "      <td>0.002096</td>\n",
       "      <td>0.70744</td>\n",
       "      <td>-0.006666</td>\n",
       "      <td>3.1801</td>\n",
       "    </tr>\n",
       "    <tr>\n",
       "      <th>1</th>\n",
       "      <td>0.003144</td>\n",
       "      <td>0.001048</td>\n",
       "      <td>0.002100</td>\n",
       "      <td>0.000242</td>\n",
       "      <td>0.002096</td>\n",
       "      <td>0.002096</td>\n",
       "      <td>5.856700e-08</td>\n",
       "      <td>0.001834</td>\n",
       "      <td>0.001965</td>\n",
       "      <td>0.002227</td>\n",
       "      <td>0.002358</td>\n",
       "      <td>0.002096</td>\n",
       "      <td>0.72061</td>\n",
       "      <td>0.001730</td>\n",
       "      <td>3.1898</td>\n",
       "    </tr>\n",
       "    <tr>\n",
       "      <th>2</th>\n",
       "      <td>0.003275</td>\n",
       "      <td>0.000917</td>\n",
       "      <td>0.002105</td>\n",
       "      <td>0.000241</td>\n",
       "      <td>0.002096</td>\n",
       "      <td>0.002096</td>\n",
       "      <td>5.829200e-08</td>\n",
       "      <td>0.001834</td>\n",
       "      <td>0.001965</td>\n",
       "      <td>0.002227</td>\n",
       "      <td>0.002358</td>\n",
       "      <td>0.002358</td>\n",
       "      <td>0.70402</td>\n",
       "      <td>0.011779</td>\n",
       "      <td>3.2774</td>\n",
       "    </tr>\n",
       "    <tr>\n",
       "      <th>3</th>\n",
       "      <td>0.003144</td>\n",
       "      <td>0.001179</td>\n",
       "      <td>0.002040</td>\n",
       "      <td>0.000245</td>\n",
       "      <td>0.002096</td>\n",
       "      <td>0.002096</td>\n",
       "      <td>6.009000e-08</td>\n",
       "      <td>0.001703</td>\n",
       "      <td>0.001834</td>\n",
       "      <td>0.002227</td>\n",
       "      <td>0.002358</td>\n",
       "      <td>0.001965</td>\n",
       "      <td>0.85466</td>\n",
       "      <td>0.008269</td>\n",
       "      <td>3.1093</td>\n",
       "    </tr>\n",
       "    <tr>\n",
       "      <th>4</th>\n",
       "      <td>0.003275</td>\n",
       "      <td>0.001179</td>\n",
       "      <td>0.002083</td>\n",
       "      <td>0.000252</td>\n",
       "      <td>0.002096</td>\n",
       "      <td>0.002096</td>\n",
       "      <td>6.346600e-08</td>\n",
       "      <td>0.001703</td>\n",
       "      <td>0.001965</td>\n",
       "      <td>0.002227</td>\n",
       "      <td>0.002358</td>\n",
       "      <td>0.002096</td>\n",
       "      <td>0.78105</td>\n",
       "      <td>0.036433</td>\n",
       "      <td>3.0892</td>\n",
       "    </tr>\n",
       "  </tbody>\n",
       "</table>\n",
       "</div>"
      ],
      "text/plain": [
       "        Max       Min      Mean    StdDev    Median      Mode      Variance  \\\n",
       "0  0.003144  0.001048  0.002112  0.000251  0.002096  0.002096  6.284900e-08   \n",
       "1  0.003144  0.001048  0.002100  0.000242  0.002096  0.002096  5.856700e-08   \n",
       "2  0.003275  0.000917  0.002105  0.000241  0.002096  0.002096  5.829200e-08   \n",
       "3  0.003144  0.001179  0.002040  0.000245  0.002096  0.002096  6.009000e-08   \n",
       "4  0.003275  0.001179  0.002083  0.000252  0.002096  0.002096  6.346600e-08   \n",
       "\n",
       "   Percentile10  Percentile25  Percentile75  Percentile90     Range  Entropy  \\\n",
       "0      0.001834      0.001965      0.002227      0.002489  0.002096  0.70744   \n",
       "1      0.001834      0.001965      0.002227      0.002358  0.002096  0.72061   \n",
       "2      0.001834      0.001965      0.002227      0.002358  0.002358  0.70402   \n",
       "3      0.001703      0.001834      0.002227      0.002358  0.001965  0.85466   \n",
       "4      0.001703      0.001965      0.002227      0.002358  0.002096  0.78105   \n",
       "\n",
       "   Skewness  Kurtosis  \n",
       "0 -0.006666    3.1801  \n",
       "1  0.001730    3.1898  \n",
       "2  0.011779    3.2774  \n",
       "3  0.008269    3.1093  \n",
       "4  0.036433    3.0892  "
      ]
     },
     "execution_count": 16,
     "metadata": {},
     "output_type": "execute_result"
    }
   ],
   "source": [
    "X.head()"
   ]
  },
  {
   "cell_type": "code",
   "execution_count": 17,
   "metadata": {
    "collapsed": true
   },
   "outputs": [],
   "source": [
    "Y = np.array([7500*[x] for x in [\"BGN\", \"LC\", \"LCD\", \"CFL\", \"CPU\", \"PRT\"]])"
   ]
  },
  {
   "cell_type": "code",
   "execution_count": 18,
   "metadata": {
    "collapsed": false
   },
   "outputs": [],
   "source": [
    "Y = Y.flatten()"
   ]
  },
  {
   "cell_type": "code",
   "execution_count": 19,
   "metadata": {
    "collapsed": false
   },
   "outputs": [
    {
     "data": {
      "text/plain": [
       "(45000,)"
      ]
     },
     "execution_count": 19,
     "metadata": {},
     "output_type": "execute_result"
    }
   ],
   "source": [
    "Y.shape"
   ]
  },
  {
   "cell_type": "code",
   "execution_count": 20,
   "metadata": {
    "collapsed": false
   },
   "outputs": [
    {
     "data": {
      "text/plain": [
       "(45000, 15)"
      ]
     },
     "execution_count": 20,
     "metadata": {},
     "output_type": "execute_result"
    }
   ],
   "source": [
    "X.shape"
   ]
  },
  {
   "cell_type": "code",
   "execution_count": 21,
   "metadata": {
    "collapsed": true
   },
   "outputs": [],
   "source": [
    "forest = ExtraTreesClassifier(n_estimators=250,\n",
    "                              random_state=0)"
   ]
  },
  {
   "cell_type": "code",
   "execution_count": 22,
   "metadata": {
    "collapsed": false
   },
   "outputs": [
    {
     "name": "stdout",
     "output_type": "stream",
     "text": [
      "Feature ranking:\n",
      "1. feature 12 (0.122422)\n",
      "2. feature 13 (0.095187)\n",
      "3. feature 9 (0.076892)\n",
      "4. feature 14 (0.071421)\n",
      "5. feature 4 (0.068550)\n",
      "6. feature 10 (0.068111)\n",
      "7. feature 8 (0.066993)\n",
      "8. feature 0 (0.066598)\n",
      "9. feature 11 (0.064702)\n",
      "10. feature 3 (0.063492)\n",
      "11. feature 2 (0.057161)\n",
      "12. feature 7 (0.053493)\n",
      "13. feature 1 (0.046520)\n",
      "14. feature 6 (0.046255)\n",
      "15. feature 5 (0.032203)\n"
     ]
    }
   ],
   "source": [
    "forest.fit(X, Y)\n",
    "importances = forest.feature_importances_\n",
    "std = np.std([tree.feature_importances_ for tree in forest.estimators_],\n",
    "             axis=0)\n",
    "indices = np.argsort(importances)[::-1]\n",
    "\n",
    "# Print the feature ranking\n",
    "print(\"Feature ranking:\")\n",
    "\n",
    "for f in range(15):\n",
    "    print(\"%d. feature %d (%f)\" % (f + 1, indices[f], importances[indices[f]]))"
   ]
  },
  {
   "cell_type": "code",
   "execution_count": null,
   "metadata": {
    "collapsed": true
   },
   "outputs": [],
   "source": []
  }
 ],
 "metadata": {
  "kernelspec": {
   "display_name": "Python 2",
   "language": "python",
   "name": "python2"
  },
  "language_info": {
   "codemirror_mode": {
    "name": "ipython",
    "version": 2
   },
   "file_extension": ".py",
   "mimetype": "text/x-python",
   "name": "python",
   "nbconvert_exporter": "python",
   "pygments_lexer": "ipython2",
   "version": "2.7.10"
  }
 },
 "nbformat": 4,
 "nbformat_minor": 0
}
