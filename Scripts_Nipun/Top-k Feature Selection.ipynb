{
 "cells": [
  {
   "cell_type": "code",
   "execution_count": 1,
   "metadata": {
    "collapsed": true
   },
   "outputs": [],
   "source": [
    "import pandas as pd\n",
    "import numpy as np\n",
    "from sklearn import cross_validation\n",
    "from sklearn import svm\n",
    "from sklearn.ensemble import RandomForestClassifier\n",
    "from sklearn.neighbors import KNeighborsClassifier\n",
    "from sklearn.cross_validation import StratifiedKFold\n",
    "from sklearn.feature_selection import RFECV\n",
    "from sklearn.tree import DecisionTreeClassifier\n",
    "\n",
    "from sklearn.ensemble import ExtraTreesClassifier"
   ]
  },
  {
   "cell_type": "code",
   "execution_count": 3,
   "metadata": {
    "collapsed": false
   },
   "outputs": [],
   "source": [
    "X = pd.read_csv(\"/Users/manojgulati/Documents/Algo_Testing_Data/30_March_2015/TD16384_Features_SET3_CM/Stats_Features.csv\", \n",
    "                names=[\"Max\", \"Min\", \"Mean\", \"StdDev\", \"Median\",\n",
    "                       \"Mode\", \"Variance\", \"Percentile10\",\"Percentile25\",\n",
    "                       \"Percentile75\",\"Percentile90\", \"Range\",\"Entropy\",\"Skewness\",\"Kurtosis\",\"IQR\",\"MAD\"])"
   ]
  },
  {
   "cell_type": "code",
   "execution_count": 4,
   "metadata": {
    "collapsed": false
   },
   "outputs": [
    {
     "data": {
      "text/html": [
       "<div>\n",
       "<table border=\"1\" class=\"dataframe\">\n",
       "  <thead>\n",
       "    <tr style=\"text-align: right;\">\n",
       "      <th></th>\n",
       "      <th>Max</th>\n",
       "      <th>Min</th>\n",
       "      <th>Mean</th>\n",
       "      <th>StdDev</th>\n",
       "      <th>Median</th>\n",
       "      <th>Mode</th>\n",
       "      <th>Variance</th>\n",
       "      <th>Percentile10</th>\n",
       "      <th>Percentile25</th>\n",
       "      <th>Percentile75</th>\n",
       "      <th>Percentile90</th>\n",
       "      <th>Range</th>\n",
       "      <th>Entropy</th>\n",
       "      <th>Skewness</th>\n",
       "      <th>Kurtosis</th>\n",
       "      <th>IQR</th>\n",
       "      <th>MAD</th>\n",
       "    </tr>\n",
       "  </thead>\n",
       "  <tbody>\n",
       "    <tr>\n",
       "      <th>count</th>\n",
       "      <td>45000.000000</td>\n",
       "      <td>45000.000000</td>\n",
       "      <td>45000.000000</td>\n",
       "      <td>45000.000000</td>\n",
       "      <td>45000.000000</td>\n",
       "      <td>45000.000000</td>\n",
       "      <td>4.500000e+04</td>\n",
       "      <td>45000.000000</td>\n",
       "      <td>45000.000000</td>\n",
       "      <td>45000.000000</td>\n",
       "      <td>45000.000000</td>\n",
       "      <td>45000.000000</td>\n",
       "      <td>45000.000000</td>\n",
       "      <td>45000.000000</td>\n",
       "      <td>45000.000000</td>\n",
       "      <td>45000.000000</td>\n",
       "      <td>45000.000000</td>\n",
       "    </tr>\n",
       "    <tr>\n",
       "      <th>mean</th>\n",
       "      <td>0.077329</td>\n",
       "      <td>0.000152</td>\n",
       "      <td>0.022703</td>\n",
       "      <td>0.014399</td>\n",
       "      <td>0.021077</td>\n",
       "      <td>0.013581</td>\n",
       "      <td>3.321264e-04</td>\n",
       "      <td>0.005318</td>\n",
       "      <td>0.011302</td>\n",
       "      <td>0.032019</td>\n",
       "      <td>0.042387</td>\n",
       "      <td>0.077177</td>\n",
       "      <td>3.197691</td>\n",
       "      <td>0.764749</td>\n",
       "      <td>4.392569</td>\n",
       "      <td>0.020717</td>\n",
       "      <td>0.011668</td>\n",
       "    </tr>\n",
       "    <tr>\n",
       "      <th>std</th>\n",
       "      <td>0.053120</td>\n",
       "      <td>0.000346</td>\n",
       "      <td>0.017164</td>\n",
       "      <td>0.011171</td>\n",
       "      <td>0.016764</td>\n",
       "      <td>0.020297</td>\n",
       "      <td>7.321225e-04</td>\n",
       "      <td>0.004268</td>\n",
       "      <td>0.008778</td>\n",
       "      <td>0.025351</td>\n",
       "      <td>0.032387</td>\n",
       "      <td>0.053326</td>\n",
       "      <td>1.413531</td>\n",
       "      <td>0.872118</td>\n",
       "      <td>3.660820</td>\n",
       "      <td>0.017929</td>\n",
       "      <td>0.009358</td>\n",
       "    </tr>\n",
       "    <tr>\n",
       "      <th>min</th>\n",
       "      <td>0.002882</td>\n",
       "      <td>0.000000</td>\n",
       "      <td>0.001928</td>\n",
       "      <td>0.000239</td>\n",
       "      <td>0.001965</td>\n",
       "      <td>0.000131</td>\n",
       "      <td>5.709000e-08</td>\n",
       "      <td>0.000393</td>\n",
       "      <td>0.001048</td>\n",
       "      <td>0.002096</td>\n",
       "      <td>0.002227</td>\n",
       "      <td>0.001703</td>\n",
       "      <td>0.338480</td>\n",
       "      <td>-0.512280</td>\n",
       "      <td>1.516500</td>\n",
       "      <td>0.000262</td>\n",
       "      <td>0.000186</td>\n",
       "    </tr>\n",
       "    <tr>\n",
       "      <th>25%</th>\n",
       "      <td>0.043492</td>\n",
       "      <td>0.000000</td>\n",
       "      <td>0.009381</td>\n",
       "      <td>0.006223</td>\n",
       "      <td>0.008253</td>\n",
       "      <td>0.002096</td>\n",
       "      <td>3.873175e-05</td>\n",
       "      <td>0.001834</td>\n",
       "      <td>0.004061</td>\n",
       "      <td>0.011659</td>\n",
       "      <td>0.015589</td>\n",
       "      <td>0.043492</td>\n",
       "      <td>2.349175</td>\n",
       "      <td>0.119438</td>\n",
       "      <td>2.486175</td>\n",
       "      <td>0.005240</td>\n",
       "      <td>0.004436</td>\n",
       "    </tr>\n",
       "    <tr>\n",
       "      <th>50%</th>\n",
       "      <td>0.068251</td>\n",
       "      <td>0.000000</td>\n",
       "      <td>0.019610</td>\n",
       "      <td>0.011887</td>\n",
       "      <td>0.018209</td>\n",
       "      <td>0.007336</td>\n",
       "      <td>1.412950e-04</td>\n",
       "      <td>0.004323</td>\n",
       "      <td>0.009301</td>\n",
       "      <td>0.026790</td>\n",
       "      <td>0.035763</td>\n",
       "      <td>0.068251</td>\n",
       "      <td>3.517000</td>\n",
       "      <td>0.514245</td>\n",
       "      <td>3.057150</td>\n",
       "      <td>0.016899</td>\n",
       "      <td>0.009616</td>\n",
       "    </tr>\n",
       "    <tr>\n",
       "      <th>75%</th>\n",
       "      <td>0.114760</td>\n",
       "      <td>0.000000</td>\n",
       "      <td>0.035168</td>\n",
       "      <td>0.021923</td>\n",
       "      <td>0.031833</td>\n",
       "      <td>0.018602</td>\n",
       "      <td>4.806300e-04</td>\n",
       "      <td>0.006812</td>\n",
       "      <td>0.015589</td>\n",
       "      <td>0.050566</td>\n",
       "      <td>0.066158</td>\n",
       "      <td>0.114760</td>\n",
       "      <td>4.382500</td>\n",
       "      <td>0.883845</td>\n",
       "      <td>3.670625</td>\n",
       "      <td>0.032750</td>\n",
       "      <td>0.018080</td>\n",
       "    </tr>\n",
       "    <tr>\n",
       "      <th>max</th>\n",
       "      <td>1.091900</td>\n",
       "      <td>0.005109</td>\n",
       "      <td>0.134980</td>\n",
       "      <td>0.295190</td>\n",
       "      <td>0.080041</td>\n",
       "      <td>1.091900</td>\n",
       "      <td>8.713800e-02</td>\n",
       "      <td>0.029606</td>\n",
       "      <td>0.046112</td>\n",
       "      <td>0.114360</td>\n",
       "      <td>0.423270</td>\n",
       "      <td>1.091900</td>\n",
       "      <td>5.572500</td>\n",
       "      <td>4.525300</td>\n",
       "      <td>38.131000</td>\n",
       "      <td>0.091831</td>\n",
       "      <td>0.179170</td>\n",
       "    </tr>\n",
       "  </tbody>\n",
       "</table>\n",
       "</div>"
      ],
      "text/plain": [
       "                Max           Min          Mean        StdDev        Median  \\\n",
       "count  45000.000000  45000.000000  45000.000000  45000.000000  45000.000000   \n",
       "mean       0.077329      0.000152      0.022703      0.014399      0.021077   \n",
       "std        0.053120      0.000346      0.017164      0.011171      0.016764   \n",
       "min        0.002882      0.000000      0.001928      0.000239      0.001965   \n",
       "25%        0.043492      0.000000      0.009381      0.006223      0.008253   \n",
       "50%        0.068251      0.000000      0.019610      0.011887      0.018209   \n",
       "75%        0.114760      0.000000      0.035168      0.021923      0.031833   \n",
       "max        1.091900      0.005109      0.134980      0.295190      0.080041   \n",
       "\n",
       "               Mode      Variance  Percentile10  Percentile25  Percentile75  \\\n",
       "count  45000.000000  4.500000e+04  45000.000000  45000.000000  45000.000000   \n",
       "mean       0.013581  3.321264e-04      0.005318      0.011302      0.032019   \n",
       "std        0.020297  7.321225e-04      0.004268      0.008778      0.025351   \n",
       "min        0.000131  5.709000e-08      0.000393      0.001048      0.002096   \n",
       "25%        0.002096  3.873175e-05      0.001834      0.004061      0.011659   \n",
       "50%        0.007336  1.412950e-04      0.004323      0.009301      0.026790   \n",
       "75%        0.018602  4.806300e-04      0.006812      0.015589      0.050566   \n",
       "max        1.091900  8.713800e-02      0.029606      0.046112      0.114360   \n",
       "\n",
       "       Percentile90         Range       Entropy      Skewness      Kurtosis  \\\n",
       "count  45000.000000  45000.000000  45000.000000  45000.000000  45000.000000   \n",
       "mean       0.042387      0.077177      3.197691      0.764749      4.392569   \n",
       "std        0.032387      0.053326      1.413531      0.872118      3.660820   \n",
       "min        0.002227      0.001703      0.338480     -0.512280      1.516500   \n",
       "25%        0.015589      0.043492      2.349175      0.119438      2.486175   \n",
       "50%        0.035763      0.068251      3.517000      0.514245      3.057150   \n",
       "75%        0.066158      0.114760      4.382500      0.883845      3.670625   \n",
       "max        0.423270      1.091900      5.572500      4.525300     38.131000   \n",
       "\n",
       "                IQR           MAD  \n",
       "count  45000.000000  45000.000000  \n",
       "mean       0.020717      0.011668  \n",
       "std        0.017929      0.009358  \n",
       "min        0.000262      0.000186  \n",
       "25%        0.005240      0.004436  \n",
       "50%        0.016899      0.009616  \n",
       "75%        0.032750      0.018080  \n",
       "max        0.091831      0.179170  "
      ]
     },
     "execution_count": 4,
     "metadata": {},
     "output_type": "execute_result"
    }
   ],
   "source": [
    "X.describe()"
   ]
  },
  {
   "cell_type": "code",
   "execution_count": 5,
   "metadata": {
    "collapsed": true
   },
   "outputs": [],
   "source": [
    "Y = np.array([7500*[x] for x in [\"BGN\", \"LC\", \"LCD\", \"CFL\", \"CPU\", \"PRT\"]])"
   ]
  },
  {
   "cell_type": "code",
   "execution_count": 6,
   "metadata": {
    "collapsed": false
   },
   "outputs": [],
   "source": [
    "Y = Y.flatten()"
   ]
  },
  {
   "cell_type": "code",
   "execution_count": 7,
   "metadata": {
    "collapsed": false
   },
   "outputs": [
    {
     "data": {
      "text/plain": [
       "(45000,)"
      ]
     },
     "execution_count": 7,
     "metadata": {},
     "output_type": "execute_result"
    }
   ],
   "source": [
    "Y.shape"
   ]
  },
  {
   "cell_type": "code",
   "execution_count": 8,
   "metadata": {
    "collapsed": false
   },
   "outputs": [
    {
     "data": {
      "text/plain": [
       "(45000, 17)"
      ]
     },
     "execution_count": 8,
     "metadata": {},
     "output_type": "execute_result"
    }
   ],
   "source": [
    "X.shape"
   ]
  },
  {
   "cell_type": "code",
   "execution_count": 9,
   "metadata": {
    "collapsed": true
   },
   "outputs": [],
   "source": [
    "forest = ExtraTreesClassifier(n_estimators=250,\n",
    "                              random_state=0)"
   ]
  },
  {
   "cell_type": "code",
   "execution_count": 10,
   "metadata": {
    "collapsed": false
   },
   "outputs": [
    {
     "name": "stdout",
     "output_type": "stream",
     "text": [
      "Feature ranking:\n",
      "1. feature 12 (0.121083)\n",
      "2. feature 13 (0.085575)\n",
      "3. feature 15 (0.083555)\n",
      "4. feature 14 (0.067500)\n",
      "5. feature 9 (0.066187)\n",
      "6. feature 11 (0.062730)\n",
      "7. feature 0 (0.060863)\n",
      "8. feature 4 (0.058406)\n",
      "9. feature 10 (0.056378)\n",
      "10. feature 16 (0.053206)\n",
      "11. feature 2 (0.052172)\n",
      "12. feature 8 (0.050702)\n",
      "13. feature 3 (0.044198)\n",
      "14. feature 7 (0.043154)\n",
      "15. feature 6 (0.037051)\n",
      "16. feature 1 (0.031380)\n",
      "17. feature 5 (0.025860)\n"
     ]
    }
   ],
   "source": [
    "forest.fit(X, Y)\n",
    "importances = forest.feature_importances_\n",
    "std = np.std([tree.feature_importances_ for tree in forest.estimators_],\n",
    "             axis=0)\n",
    "indices = np.argsort(importances)[::-1]\n",
    "\n",
    "# Print the feature ranking\n",
    "print(\"Feature ranking:\")\n",
    "\n",
    "for f in range(17):\n",
    "    print(\"%d. feature %d (%f)\" % (f + 1, indices[f], importances[indices[f]]))"
   ]
  },
  {
   "cell_type": "code",
   "execution_count": null,
   "metadata": {
    "collapsed": true
   },
   "outputs": [],
   "source": []
  }
 ],
 "metadata": {
  "kernelspec": {
   "display_name": "Python 2",
   "language": "python",
   "name": "python2"
  },
  "language_info": {
   "codemirror_mode": {
    "name": "ipython",
    "version": 2
   },
   "file_extension": ".py",
   "mimetype": "text/x-python",
   "name": "python",
   "nbconvert_exporter": "python",
   "pygments_lexer": "ipython2",
   "version": "2.7.10"
  }
 },
 "nbformat": 4,
 "nbformat_minor": 0
}
